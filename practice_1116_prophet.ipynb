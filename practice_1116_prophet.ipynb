{
  "nbformat": 4,
  "nbformat_minor": 0,
  "metadata": {
    "colab": {
      "name": "practice_1116_prophet.ipynb",
      "provenance": [],
      "include_colab_link": true
    },
    "kernelspec": {
      "name": "python3",
      "display_name": "Python 3"
    }
  },
  "cells": [
    {
      "cell_type": "markdown",
      "metadata": {
        "id": "view-in-github",
        "colab_type": "text"
      },
      "source": [
        "<a href=\"https://colab.research.google.com/github/kt3472/oss_ai_class/blob/master/practice_1116_prophet.ipynb\" target=\"_parent\"><img src=\"https://colab.research.google.com/assets/colab-badge.svg\" alt=\"Open In Colab\"/></a>"
      ]
    },
    {
      "cell_type": "code",
      "metadata": {
        "id": "mnjh70ENB5pK",
        "colab_type": "code",
        "outputId": "57d1b3c2-9d09-4a8d-ef76-fa69d62e67f9",
        "colab": {
          "base_uri": "https://localhost:8080/",
          "height": 1000
        }
      },
      "source": [
        "#!pip install catboost\n",
        "#!pip install keras\n",
        "#!pip install geopy\n",
        "#!pip install plotly\n",
        "#!pip install cufflinks\n",
        "#!pip install fbprophet\n",
        "#!pip install shap"
      ],
      "execution_count": 0,
      "outputs": [
        {
          "output_type": "stream",
          "text": [
            "Collecting catboost\n",
            "\u001b[?25l  Downloading https://files.pythonhosted.org/packages/ad/30/a6178a9b6b5a9d9f91f6fee423e68d0545330f1c690fe419e59a3da6a38a/catboost-0.18.1-cp36-none-manylinux1_x86_64.whl (62.9MB)\n",
            "\u001b[K     |████████████████████████████████| 62.9MB 37kB/s \n",
            "\u001b[?25hRequirement already satisfied: graphviz in /usr/local/lib/python3.6/dist-packages (from catboost) (0.10.1)\n",
            "Requirement already satisfied: six in /usr/local/lib/python3.6/dist-packages (from catboost) (1.12.0)\n",
            "Requirement already satisfied: scipy in /usr/local/lib/python3.6/dist-packages (from catboost) (1.3.2)\n",
            "Requirement already satisfied: pandas>=0.24.0 in /usr/local/lib/python3.6/dist-packages (from catboost) (0.25.3)\n",
            "Requirement already satisfied: matplotlib in /usr/local/lib/python3.6/dist-packages (from catboost) (3.1.1)\n",
            "Requirement already satisfied: plotly in /usr/local/lib/python3.6/dist-packages (from catboost) (4.1.1)\n",
            "Requirement already satisfied: numpy>=1.16.0 in /usr/local/lib/python3.6/dist-packages (from catboost) (1.17.4)\n",
            "Requirement already satisfied: pytz>=2017.2 in /usr/local/lib/python3.6/dist-packages (from pandas>=0.24.0->catboost) (2018.9)\n",
            "Requirement already satisfied: python-dateutil>=2.6.1 in /usr/local/lib/python3.6/dist-packages (from pandas>=0.24.0->catboost) (2.6.1)\n",
            "Requirement already satisfied: cycler>=0.10 in /usr/local/lib/python3.6/dist-packages (from matplotlib->catboost) (0.10.0)\n",
            "Requirement already satisfied: pyparsing!=2.0.4,!=2.1.2,!=2.1.6,>=2.0.1 in /usr/local/lib/python3.6/dist-packages (from matplotlib->catboost) (2.4.5)\n",
            "Requirement already satisfied: kiwisolver>=1.0.1 in /usr/local/lib/python3.6/dist-packages (from matplotlib->catboost) (1.1.0)\n",
            "Requirement already satisfied: retrying>=1.3.3 in /usr/local/lib/python3.6/dist-packages (from plotly->catboost) (1.3.3)\n",
            "Requirement already satisfied: setuptools in /usr/local/lib/python3.6/dist-packages (from kiwisolver>=1.0.1->matplotlib->catboost) (41.4.0)\n",
            "Installing collected packages: catboost\n",
            "Successfully installed catboost-0.18.1\n",
            "Requirement already satisfied: keras in /usr/local/lib/python3.6/dist-packages (2.2.5)\n",
            "Requirement already satisfied: six>=1.9.0 in /usr/local/lib/python3.6/dist-packages (from keras) (1.12.0)\n",
            "Requirement already satisfied: scipy>=0.14 in /usr/local/lib/python3.6/dist-packages (from keras) (1.3.2)\n",
            "Requirement already satisfied: numpy>=1.9.1 in /usr/local/lib/python3.6/dist-packages (from keras) (1.17.4)\n",
            "Requirement already satisfied: h5py in /usr/local/lib/python3.6/dist-packages (from keras) (2.8.0)\n",
            "Requirement already satisfied: pyyaml in /usr/local/lib/python3.6/dist-packages (from keras) (3.13)\n",
            "Requirement already satisfied: keras-applications>=1.0.8 in /usr/local/lib/python3.6/dist-packages (from keras) (1.0.8)\n",
            "Requirement already satisfied: keras-preprocessing>=1.1.0 in /usr/local/lib/python3.6/dist-packages (from keras) (1.1.0)\n",
            "Requirement already satisfied: geopy in /usr/local/lib/python3.6/dist-packages (1.17.0)\n",
            "Requirement already satisfied: geographiclib<2,>=1.49 in /usr/local/lib/python3.6/dist-packages (from geopy) (1.50)\n",
            "Requirement already satisfied: plotly in /usr/local/lib/python3.6/dist-packages (4.1.1)\n",
            "Requirement already satisfied: retrying>=1.3.3 in /usr/local/lib/python3.6/dist-packages (from plotly) (1.3.3)\n",
            "Requirement already satisfied: six in /usr/local/lib/python3.6/dist-packages (from plotly) (1.12.0)\n",
            "Requirement already satisfied: cufflinks in /usr/local/lib/python3.6/dist-packages (0.17.0)\n",
            "Requirement already satisfied: pandas>=0.19.2 in /usr/local/lib/python3.6/dist-packages (from cufflinks) (0.25.3)\n",
            "Requirement already satisfied: chart-studio>=1.0.0 in /usr/local/lib/python3.6/dist-packages (from cufflinks) (1.0.0)\n",
            "Requirement already satisfied: ipywidgets>=7.0.0 in /usr/local/lib/python3.6/dist-packages (from cufflinks) (7.5.1)\n",
            "Requirement already satisfied: six>=1.9.0 in /usr/local/lib/python3.6/dist-packages (from cufflinks) (1.12.0)\n",
            "Requirement already satisfied: setuptools>=34.4.1 in /usr/local/lib/python3.6/dist-packages (from cufflinks) (41.4.0)\n",
            "Requirement already satisfied: ipython>=5.3.0 in /usr/local/lib/python3.6/dist-packages (from cufflinks) (5.5.0)\n",
            "Requirement already satisfied: plotly>=4.1.1 in /usr/local/lib/python3.6/dist-packages (from cufflinks) (4.1.1)\n",
            "Requirement already satisfied: numpy>=1.9.2 in /usr/local/lib/python3.6/dist-packages (from cufflinks) (1.17.4)\n",
            "Requirement already satisfied: colorlover>=0.2.1 in /usr/local/lib/python3.6/dist-packages (from cufflinks) (0.3.0)\n",
            "Requirement already satisfied: pytz>=2017.2 in /usr/local/lib/python3.6/dist-packages (from pandas>=0.19.2->cufflinks) (2018.9)\n",
            "Requirement already satisfied: python-dateutil>=2.6.1 in /usr/local/lib/python3.6/dist-packages (from pandas>=0.19.2->cufflinks) (2.6.1)\n",
            "Requirement already satisfied: retrying>=1.3.3 in /usr/local/lib/python3.6/dist-packages (from chart-studio>=1.0.0->cufflinks) (1.3.3)\n",
            "Requirement already satisfied: requests in /usr/local/lib/python3.6/dist-packages (from chart-studio>=1.0.0->cufflinks) (2.21.0)\n",
            "Requirement already satisfied: ipykernel>=4.5.1 in /usr/local/lib/python3.6/dist-packages (from ipywidgets>=7.0.0->cufflinks) (4.6.1)\n",
            "Requirement already satisfied: nbformat>=4.2.0 in /usr/local/lib/python3.6/dist-packages (from ipywidgets>=7.0.0->cufflinks) (4.4.0)\n",
            "Requirement already satisfied: traitlets>=4.3.1 in /usr/local/lib/python3.6/dist-packages (from ipywidgets>=7.0.0->cufflinks) (4.3.3)\n",
            "Requirement already satisfied: widgetsnbextension~=3.5.0 in /usr/local/lib/python3.6/dist-packages (from ipywidgets>=7.0.0->cufflinks) (3.5.1)\n",
            "Requirement already satisfied: decorator in /usr/local/lib/python3.6/dist-packages (from ipython>=5.3.0->cufflinks) (4.4.1)\n",
            "Requirement already satisfied: pygments in /usr/local/lib/python3.6/dist-packages (from ipython>=5.3.0->cufflinks) (2.1.3)\n",
            "Requirement already satisfied: pickleshare in /usr/local/lib/python3.6/dist-packages (from ipython>=5.3.0->cufflinks) (0.7.5)\n",
            "Requirement already satisfied: pexpect; sys_platform != \"win32\" in /usr/local/lib/python3.6/dist-packages (from ipython>=5.3.0->cufflinks) (4.7.0)\n",
            "Requirement already satisfied: prompt-toolkit<2.0.0,>=1.0.4 in /usr/local/lib/python3.6/dist-packages (from ipython>=5.3.0->cufflinks) (1.0.18)\n",
            "Requirement already satisfied: simplegeneric>0.8 in /usr/local/lib/python3.6/dist-packages (from ipython>=5.3.0->cufflinks) (0.8.1)\n",
            "Requirement already satisfied: chardet<3.1.0,>=3.0.2 in /usr/local/lib/python3.6/dist-packages (from requests->chart-studio>=1.0.0->cufflinks) (3.0.4)\n",
            "Requirement already satisfied: certifi>=2017.4.17 in /usr/local/lib/python3.6/dist-packages (from requests->chart-studio>=1.0.0->cufflinks) (2019.9.11)\n",
            "Requirement already satisfied: urllib3<1.25,>=1.21.1 in /usr/local/lib/python3.6/dist-packages (from requests->chart-studio>=1.0.0->cufflinks) (1.24.3)\n",
            "Requirement already satisfied: idna<2.9,>=2.5 in /usr/local/lib/python3.6/dist-packages (from requests->chart-studio>=1.0.0->cufflinks) (2.8)\n",
            "Requirement already satisfied: tornado>=4.0 in /usr/local/lib/python3.6/dist-packages (from ipykernel>=4.5.1->ipywidgets>=7.0.0->cufflinks) (4.5.3)\n",
            "Requirement already satisfied: jupyter-client in /usr/local/lib/python3.6/dist-packages (from ipykernel>=4.5.1->ipywidgets>=7.0.0->cufflinks) (5.3.4)\n",
            "Requirement already satisfied: jsonschema!=2.5.0,>=2.4 in /usr/local/lib/python3.6/dist-packages (from nbformat>=4.2.0->ipywidgets>=7.0.0->cufflinks) (2.6.0)\n",
            "Requirement already satisfied: ipython-genutils in /usr/local/lib/python3.6/dist-packages (from nbformat>=4.2.0->ipywidgets>=7.0.0->cufflinks) (0.2.0)\n",
            "Requirement already satisfied: jupyter-core in /usr/local/lib/python3.6/dist-packages (from nbformat>=4.2.0->ipywidgets>=7.0.0->cufflinks) (4.6.1)\n",
            "Requirement already satisfied: notebook>=4.4.1 in /usr/local/lib/python3.6/dist-packages (from widgetsnbextension~=3.5.0->ipywidgets>=7.0.0->cufflinks) (5.2.2)\n",
            "Requirement already satisfied: ptyprocess>=0.5 in /usr/local/lib/python3.6/dist-packages (from pexpect; sys_platform != \"win32\"->ipython>=5.3.0->cufflinks) (0.6.0)\n",
            "Requirement already satisfied: wcwidth in /usr/local/lib/python3.6/dist-packages (from prompt-toolkit<2.0.0,>=1.0.4->ipython>=5.3.0->cufflinks) (0.1.7)\n",
            "Requirement already satisfied: pyzmq>=13 in /usr/local/lib/python3.6/dist-packages (from jupyter-client->ipykernel>=4.5.1->ipywidgets>=7.0.0->cufflinks) (17.0.0)\n",
            "Requirement already satisfied: nbconvert in /usr/local/lib/python3.6/dist-packages (from notebook>=4.4.1->widgetsnbextension~=3.5.0->ipywidgets>=7.0.0->cufflinks) (5.6.1)\n",
            "Requirement already satisfied: jinja2 in /usr/local/lib/python3.6/dist-packages (from notebook>=4.4.1->widgetsnbextension~=3.5.0->ipywidgets>=7.0.0->cufflinks) (2.10.3)\n",
            "Requirement already satisfied: terminado>=0.3.3; sys_platform != \"win32\" in /usr/local/lib/python3.6/dist-packages (from notebook>=4.4.1->widgetsnbextension~=3.5.0->ipywidgets>=7.0.0->cufflinks) (0.8.2)\n",
            "Requirement already satisfied: defusedxml in /usr/local/lib/python3.6/dist-packages (from nbconvert->notebook>=4.4.1->widgetsnbextension~=3.5.0->ipywidgets>=7.0.0->cufflinks) (0.6.0)\n",
            "Requirement already satisfied: entrypoints>=0.2.2 in /usr/local/lib/python3.6/dist-packages (from nbconvert->notebook>=4.4.1->widgetsnbextension~=3.5.0->ipywidgets>=7.0.0->cufflinks) (0.3)\n",
            "Requirement already satisfied: bleach in /usr/local/lib/python3.6/dist-packages (from nbconvert->notebook>=4.4.1->widgetsnbextension~=3.5.0->ipywidgets>=7.0.0->cufflinks) (3.1.0)\n",
            "Requirement already satisfied: mistune<2,>=0.8.1 in /usr/local/lib/python3.6/dist-packages (from nbconvert->notebook>=4.4.1->widgetsnbextension~=3.5.0->ipywidgets>=7.0.0->cufflinks) (0.8.4)\n",
            "Requirement already satisfied: pandocfilters>=1.4.1 in /usr/local/lib/python3.6/dist-packages (from nbconvert->notebook>=4.4.1->widgetsnbextension~=3.5.0->ipywidgets>=7.0.0->cufflinks) (1.4.2)\n",
            "Requirement already satisfied: testpath in /usr/local/lib/python3.6/dist-packages (from nbconvert->notebook>=4.4.1->widgetsnbextension~=3.5.0->ipywidgets>=7.0.0->cufflinks) (0.4.4)\n",
            "Requirement already satisfied: MarkupSafe>=0.23 in /usr/local/lib/python3.6/dist-packages (from jinja2->notebook>=4.4.1->widgetsnbextension~=3.5.0->ipywidgets>=7.0.0->cufflinks) (1.1.1)\n",
            "Requirement already satisfied: webencodings in /usr/local/lib/python3.6/dist-packages (from bleach->nbconvert->notebook>=4.4.1->widgetsnbextension~=3.5.0->ipywidgets>=7.0.0->cufflinks) (0.5.1)\n",
            "Requirement already satisfied: fbprophet in /usr/local/lib/python3.6/dist-packages (0.5)\n",
            "Requirement already satisfied: pystan>=2.14 in /usr/local/lib/python3.6/dist-packages (from fbprophet) (2.19.1.1)\n",
            "Requirement already satisfied: numpy>=1.10.0 in /usr/local/lib/python3.6/dist-packages (from fbprophet) (1.17.4)\n",
            "Requirement already satisfied: matplotlib>=2.0.0 in /usr/local/lib/python3.6/dist-packages (from fbprophet) (3.1.1)\n",
            "Requirement already satisfied: setuptools-git>=1.2 in /usr/local/lib/python3.6/dist-packages (from fbprophet) (1.2)\n",
            "Requirement already satisfied: Cython>=0.22 in /usr/local/lib/python3.6/dist-packages (from fbprophet) (0.29.14)\n",
            "Requirement already satisfied: convertdate>=2.1.2 in /usr/local/lib/python3.6/dist-packages (from fbprophet) (2.2.0)\n",
            "Requirement already satisfied: holidays>=0.9.5 in /usr/local/lib/python3.6/dist-packages (from fbprophet) (0.9.11)\n",
            "Requirement already satisfied: pandas>=0.23.4 in /usr/local/lib/python3.6/dist-packages (from fbprophet) (0.25.3)\n",
            "Requirement already satisfied: lunardate>=0.1.5 in /usr/local/lib/python3.6/dist-packages (from fbprophet) (0.2.0)\n",
            "Requirement already satisfied: cycler>=0.10 in /usr/local/lib/python3.6/dist-packages (from matplotlib>=2.0.0->fbprophet) (0.10.0)\n",
            "Requirement already satisfied: python-dateutil>=2.1 in /usr/local/lib/python3.6/dist-packages (from matplotlib>=2.0.0->fbprophet) (2.6.1)\n",
            "Requirement already satisfied: pyparsing!=2.0.4,!=2.1.2,!=2.1.6,>=2.0.1 in /usr/local/lib/python3.6/dist-packages (from matplotlib>=2.0.0->fbprophet) (2.4.5)\n",
            "Requirement already satisfied: kiwisolver>=1.0.1 in /usr/local/lib/python3.6/dist-packages (from matplotlib>=2.0.0->fbprophet) (1.1.0)\n",
            "Requirement already satisfied: pytz<2020,>=2014.10 in /usr/local/lib/python3.6/dist-packages (from convertdate>=2.1.2->fbprophet) (2018.9)\n",
            "Requirement already satisfied: pymeeus<=1,>=0.3.6 in /usr/local/lib/python3.6/dist-packages (from convertdate>=2.1.2->fbprophet) (0.3.6)\n",
            "Requirement already satisfied: six in /usr/local/lib/python3.6/dist-packages (from holidays>=0.9.5->fbprophet) (1.12.0)\n",
            "Requirement already satisfied: setuptools in /usr/local/lib/python3.6/dist-packages (from kiwisolver>=1.0.1->matplotlib>=2.0.0->fbprophet) (41.4.0)\n",
            "Collecting shap\n",
            "\u001b[?25l  Downloading https://files.pythonhosted.org/packages/57/43/08f152a59a1d60f0328b476bdd58c791498989981ab9c6d595ec5448a86a/shap-0.32.1.tar.gz (259kB)\n",
            "\u001b[K     |████████████████████████████████| 266kB 2.8MB/s \n",
            "\u001b[?25hRequirement already satisfied: numpy in /usr/local/lib/python3.6/dist-packages (from shap) (1.17.4)\n",
            "Requirement already satisfied: scipy in /usr/local/lib/python3.6/dist-packages (from shap) (1.3.2)\n",
            "Requirement already satisfied: scikit-learn in /usr/local/lib/python3.6/dist-packages (from shap) (0.21.3)\n",
            "Requirement already satisfied: pandas in /usr/local/lib/python3.6/dist-packages (from shap) (0.25.3)\n",
            "Requirement already satisfied: tqdm>4.25.0 in /usr/local/lib/python3.6/dist-packages (from shap) (4.28.1)\n",
            "Requirement already satisfied: joblib>=0.11 in /usr/local/lib/python3.6/dist-packages (from scikit-learn->shap) (0.14.0)\n",
            "Requirement already satisfied: python-dateutil>=2.6.1 in /usr/local/lib/python3.6/dist-packages (from pandas->shap) (2.6.1)\n",
            "Requirement already satisfied: pytz>=2017.2 in /usr/local/lib/python3.6/dist-packages (from pandas->shap) (2018.9)\n",
            "Requirement already satisfied: six>=1.5 in /usr/local/lib/python3.6/dist-packages (from python-dateutil>=2.6.1->pandas->shap) (1.12.0)\n",
            "Building wheels for collected packages: shap\n",
            "  Building wheel for shap (setup.py) ... \u001b[?25l\u001b[?25hdone\n",
            "  Created wheel for shap: filename=shap-0.32.1-cp36-cp36m-linux_x86_64.whl size=376823 sha256=32b4c9db3e2097fd1319ae0ca4011a6dc524fa810a2d13c5d05534c499164494\n",
            "  Stored in directory: /root/.cache/pip/wheels/8e/b2/50/8fadb5a59789cb5bdeb01b800223be540651ae92915172050b\n",
            "Successfully built shap\n",
            "Installing collected packages: shap\n",
            "Successfully installed shap-0.32.1\n"
          ],
          "name": "stdout"
        }
      ]
    },
    {
      "cell_type": "code",
      "metadata": {
        "id": "ykYm_79oGk5d",
        "colab_type": "code",
        "outputId": "e326169a-a133-4a6c-8651-7f300e7f1816",
        "colab": {
          "base_uri": "https://localhost:8080/",
          "height": 80
        }
      },
      "source": [
        "import os\n",
        "\n",
        "import pandas as pd\n",
        "import numpy as np\n",
        "\n",
        "from datetime import datetime , timedelta\n",
        "import warnings\n",
        "import itertools\n",
        "from itertools import product\n",
        "from tqdm import tqdm_notebook\n",
        "from math import sqrt\n",
        "\n",
        "from sklearn.metrics import r2_score, median_absolute_error, mean_absolute_error\n",
        "from sklearn.metrics import median_absolute_error, mean_squared_error, mean_squared_log_error\n",
        "from sklearn.model_selection import train_test_split\n",
        "\n",
        "from catboost import CatBoostRegressor\n",
        "\n",
        "import statsmodels.tsa.api as smt\n",
        "from statsmodels.tsa.arima_model import ARIMA # ARIMA 모델\n",
        "\n",
        "import statsmodels.api as sm\n",
        "from statsmodels.graphics.tsaplots import plot_acf, plot_pacf\n",
        "\n",
        "import keras as K\n",
        "\n",
        "import seaborn as sns\n",
        "import matplotlib\n",
        "import matplotlib.pyplot as plt\n",
        "from pylab import rcParams\n",
        "\n",
        "\n",
        "matplotlib.rcParams['axes.labelsize'] = 14\n",
        "matplotlib.rcParams['xtick.labelsize'] = 12\n",
        "matplotlib.rcParams['ytick.labelsize'] = 12\n",
        "matplotlib.rcParams['text.color'] = 'k'\n",
        "rcParams['figure.figsize'] = 20, 10\n",
        "\n",
        "pd.set_option('display.max_colwidth', -1)\n",
        "pd.set_option('display.max_rows', 500)\n",
        "pd.set_option('display.max_columns', 500)\n",
        "pd.set_option('display.width', 1000)\n",
        "\n",
        "warnings.filterwarnings(\"ignore\")\n",
        "plt.style.use('fivethirtyeight')\n",
        "\n",
        "%matplotlib inline\n"
      ],
      "execution_count": 0,
      "outputs": [
        {
          "output_type": "stream",
          "text": [
            "Using TensorFlow backend.\n"
          ],
          "name": "stderr"
        },
        {
          "output_type": "display_data",
          "data": {
            "text/html": [
              "<p style=\"color: red;\">\n",
              "The default version of TensorFlow in Colab will soon switch to TensorFlow 2.x.<br>\n",
              "We recommend you <a href=\"https://www.tensorflow.org/guide/migrate\" target=\"_blank\">upgrade</a> now \n",
              "or ensure your notebook will continue to use TensorFlow 1.x via the <code>%tensorflow_version 1.x</code> magic:\n",
              "<a href=\"https://colab.research.google.com/notebooks/tensorflow_version.ipynb\" target=\"_blank\">more info</a>.</p>\n"
            ],
            "text/plain": [
              "<IPython.core.display.HTML object>"
            ]
          },
          "metadata": {
            "tags": []
          }
        }
      ]
    },
    {
      "cell_type": "code",
      "metadata": {
        "id": "Pm6tuTCWGpY8",
        "colab_type": "code",
        "outputId": "3aa08ed9-c896-4ed9-9525-d2251b273ca4",
        "colab": {
          "base_uri": "https://localhost:8080/",
          "height": 125
        }
      },
      "source": [
        "from google.colab import drive\n",
        "drive.mount('/content/drive')"
      ],
      "execution_count": 0,
      "outputs": [
        {
          "output_type": "stream",
          "text": [
            "Go to this URL in a browser: https://accounts.google.com/o/oauth2/auth?client_id=947318989803-6bn6qk8qdgf4n4g3pfee6491hc0brc4i.apps.googleusercontent.com&redirect_uri=urn%3aietf%3awg%3aoauth%3a2.0%3aoob&response_type=code&scope=email%20https%3a%2f%2fwww.googleapis.com%2fauth%2fdocs.test%20https%3a%2f%2fwww.googleapis.com%2fauth%2fdrive%20https%3a%2f%2fwww.googleapis.com%2fauth%2fdrive.photos.readonly%20https%3a%2f%2fwww.googleapis.com%2fauth%2fpeopleapi.readonly\n",
            "\n",
            "Enter your authorization code:\n",
            "··········\n",
            "Mounted at /content/drive\n"
          ],
          "name": "stdout"
        }
      ]
    },
    {
      "cell_type": "code",
      "metadata": {
        "id": "WMzBryIPGyCt",
        "colab_type": "code",
        "colab": {}
      },
      "source": [
        "df_apt = pd.read_csv(\"./drive/My Drive/Colab Notebooks/eval_data.csv\")"
      ],
      "execution_count": 0,
      "outputs": []
    },
    {
      "cell_type": "code",
      "metadata": {
        "id": "4dDqUe9WG6jp",
        "colab_type": "code",
        "colab": {}
      },
      "source": [
        "timese_df = df_apt[df_apt[\"room_id\"]==3513]"
      ],
      "execution_count": 0,
      "outputs": []
    },
    {
      "cell_type": "code",
      "metadata": {
        "id": "EllsWH3bHKQn",
        "colab_type": "code",
        "outputId": "d580cd00-07d6-414a-9588-4de3411b7dbc",
        "colab": {
          "base_uri": "https://localhost:8080/",
          "height": 573
        }
      },
      "source": [
        "timese_df"
      ],
      "execution_count": 0,
      "outputs": [
        {
          "output_type": "execute_result",
          "data": {
            "text/html": [
              "<div>\n",
              "<style scoped>\n",
              "    .dataframe tbody tr th:only-of-type {\n",
              "        vertical-align: middle;\n",
              "    }\n",
              "\n",
              "    .dataframe tbody tr th {\n",
              "        vertical-align: top;\n",
              "    }\n",
              "\n",
              "    .dataframe thead th {\n",
              "        text-align: right;\n",
              "    }\n",
              "</style>\n",
              "<table border=\"1\" class=\"dataframe\">\n",
              "  <thead>\n",
              "    <tr style=\"text-align: right;\">\n",
              "      <th></th>\n",
              "      <th>transaction_year_month</th>\n",
              "      <th>trade_price</th>\n",
              "      <th>year_built</th>\n",
              "      <th>transaction_day</th>\n",
              "      <th>exclusive_use_area</th>\n",
              "      <th>floor</th>\n",
              "      <th>apt_id</th>\n",
              "      <th>lat</th>\n",
              "      <th>lng</th>\n",
              "      <th>dong_cd</th>\n",
              "      <th>tot_parking</th>\n",
              "      <th>tot_household_cnt</th>\n",
              "      <th>apt_building_cnt</th>\n",
              "      <th>floor_high</th>\n",
              "      <th>floor_low</th>\n",
              "      <th>heat_type</th>\n",
              "      <th>heat_fuel</th>\n",
              "      <th>room_id</th>\n",
              "      <th>supply_area</th>\n",
              "      <th>household_cnt</th>\n",
              "      <th>room_cnt</th>\n",
              "      <th>bathroom_cnt</th>\n",
              "      <th>front_structure</th>\n",
              "      <th>local1</th>\n",
              "    </tr>\n",
              "  </thead>\n",
              "  <tbody>\n",
              "    <tr>\n",
              "      <th>85366</th>\n",
              "      <td>200612</td>\n",
              "      <td>24500</td>\n",
              "      <td>1995</td>\n",
              "      <td>1</td>\n",
              "      <td>84.94</td>\n",
              "      <td>4</td>\n",
              "      <td>1284</td>\n",
              "      <td>37.686693</td>\n",
              "      <td>127.047548</td>\n",
              "      <td>1132010800</td>\n",
              "      <td>3481.0</td>\n",
              "      <td>2678</td>\n",
              "      <td>25</td>\n",
              "      <td>17.0</td>\n",
              "      <td>11.0</td>\n",
              "      <td>individual</td>\n",
              "      <td>gas</td>\n",
              "      <td>3513</td>\n",
              "      <td>102.02</td>\n",
              "      <td>164</td>\n",
              "      <td>3.0</td>\n",
              "      <td>2.0</td>\n",
              "      <td>stairway</td>\n",
              "      <td>서울특별시</td>\n",
              "    </tr>\n",
              "    <tr>\n",
              "      <th>85369</th>\n",
              "      <td>200612</td>\n",
              "      <td>22000</td>\n",
              "      <td>1995</td>\n",
              "      <td>2</td>\n",
              "      <td>84.94</td>\n",
              "      <td>4</td>\n",
              "      <td>1284</td>\n",
              "      <td>37.686693</td>\n",
              "      <td>127.047548</td>\n",
              "      <td>1132010800</td>\n",
              "      <td>3481.0</td>\n",
              "      <td>2678</td>\n",
              "      <td>25</td>\n",
              "      <td>17.0</td>\n",
              "      <td>11.0</td>\n",
              "      <td>individual</td>\n",
              "      <td>gas</td>\n",
              "      <td>3513</td>\n",
              "      <td>102.02</td>\n",
              "      <td>164</td>\n",
              "      <td>3.0</td>\n",
              "      <td>2.0</td>\n",
              "      <td>stairway</td>\n",
              "      <td>서울특별시</td>\n",
              "    </tr>\n",
              "    <tr>\n",
              "      <th>85372</th>\n",
              "      <td>200612</td>\n",
              "      <td>28000</td>\n",
              "      <td>1995</td>\n",
              "      <td>2</td>\n",
              "      <td>84.94</td>\n",
              "      <td>12</td>\n",
              "      <td>1284</td>\n",
              "      <td>37.686693</td>\n",
              "      <td>127.047548</td>\n",
              "      <td>1132010800</td>\n",
              "      <td>3481.0</td>\n",
              "      <td>2678</td>\n",
              "      <td>25</td>\n",
              "      <td>17.0</td>\n",
              "      <td>11.0</td>\n",
              "      <td>individual</td>\n",
              "      <td>gas</td>\n",
              "      <td>3513</td>\n",
              "      <td>102.02</td>\n",
              "      <td>164</td>\n",
              "      <td>3.0</td>\n",
              "      <td>2.0</td>\n",
              "      <td>stairway</td>\n",
              "      <td>서울특별시</td>\n",
              "    </tr>\n",
              "    <tr>\n",
              "      <th>85382</th>\n",
              "      <td>200612</td>\n",
              "      <td>25000</td>\n",
              "      <td>1995</td>\n",
              "      <td>4</td>\n",
              "      <td>84.94</td>\n",
              "      <td>6</td>\n",
              "      <td>1284</td>\n",
              "      <td>37.686693</td>\n",
              "      <td>127.047548</td>\n",
              "      <td>1132010800</td>\n",
              "      <td>3481.0</td>\n",
              "      <td>2678</td>\n",
              "      <td>25</td>\n",
              "      <td>17.0</td>\n",
              "      <td>11.0</td>\n",
              "      <td>individual</td>\n",
              "      <td>gas</td>\n",
              "      <td>3513</td>\n",
              "      <td>102.02</td>\n",
              "      <td>164</td>\n",
              "      <td>3.0</td>\n",
              "      <td>2.0</td>\n",
              "      <td>stairway</td>\n",
              "      <td>서울특별시</td>\n",
              "    </tr>\n",
              "    <tr>\n",
              "      <th>85413</th>\n",
              "      <td>200612</td>\n",
              "      <td>27600</td>\n",
              "      <td>1995</td>\n",
              "      <td>7</td>\n",
              "      <td>84.94</td>\n",
              "      <td>6</td>\n",
              "      <td>1284</td>\n",
              "      <td>37.686693</td>\n",
              "      <td>127.047548</td>\n",
              "      <td>1132010800</td>\n",
              "      <td>3481.0</td>\n",
              "      <td>2678</td>\n",
              "      <td>25</td>\n",
              "      <td>17.0</td>\n",
              "      <td>11.0</td>\n",
              "      <td>individual</td>\n",
              "      <td>gas</td>\n",
              "      <td>3513</td>\n",
              "      <td>102.02</td>\n",
              "      <td>164</td>\n",
              "      <td>3.0</td>\n",
              "      <td>2.0</td>\n",
              "      <td>stairway</td>\n",
              "      <td>서울특별시</td>\n",
              "    </tr>\n",
              "    <tr>\n",
              "      <th>...</th>\n",
              "      <td>...</td>\n",
              "      <td>...</td>\n",
              "      <td>...</td>\n",
              "      <td>...</td>\n",
              "      <td>...</td>\n",
              "      <td>...</td>\n",
              "      <td>...</td>\n",
              "      <td>...</td>\n",
              "      <td>...</td>\n",
              "      <td>...</td>\n",
              "      <td>...</td>\n",
              "      <td>...</td>\n",
              "      <td>...</td>\n",
              "      <td>...</td>\n",
              "      <td>...</td>\n",
              "      <td>...</td>\n",
              "      <td>...</td>\n",
              "      <td>...</td>\n",
              "      <td>...</td>\n",
              "      <td>...</td>\n",
              "      <td>...</td>\n",
              "      <td>...</td>\n",
              "      <td>...</td>\n",
              "      <td>...</td>\n",
              "    </tr>\n",
              "    <tr>\n",
              "      <th>1120001</th>\n",
              "      <td>201910</td>\n",
              "      <td>40000</td>\n",
              "      <td>1995</td>\n",
              "      <td>31</td>\n",
              "      <td>84.94</td>\n",
              "      <td>12</td>\n",
              "      <td>1284</td>\n",
              "      <td>37.686693</td>\n",
              "      <td>127.047548</td>\n",
              "      <td>1132010800</td>\n",
              "      <td>3481.0</td>\n",
              "      <td>2678</td>\n",
              "      <td>25</td>\n",
              "      <td>17.0</td>\n",
              "      <td>11.0</td>\n",
              "      <td>individual</td>\n",
              "      <td>gas</td>\n",
              "      <td>3513</td>\n",
              "      <td>102.02</td>\n",
              "      <td>164</td>\n",
              "      <td>3.0</td>\n",
              "      <td>2.0</td>\n",
              "      <td>stairway</td>\n",
              "      <td>서울특별시</td>\n",
              "    </tr>\n",
              "    <tr>\n",
              "      <th>1120004</th>\n",
              "      <td>201909</td>\n",
              "      <td>41500</td>\n",
              "      <td>1995</td>\n",
              "      <td>19</td>\n",
              "      <td>84.94</td>\n",
              "      <td>8</td>\n",
              "      <td>1284</td>\n",
              "      <td>37.686693</td>\n",
              "      <td>127.047548</td>\n",
              "      <td>1132010800</td>\n",
              "      <td>3481.0</td>\n",
              "      <td>2678</td>\n",
              "      <td>25</td>\n",
              "      <td>17.0</td>\n",
              "      <td>11.0</td>\n",
              "      <td>individual</td>\n",
              "      <td>gas</td>\n",
              "      <td>3513</td>\n",
              "      <td>102.02</td>\n",
              "      <td>164</td>\n",
              "      <td>3.0</td>\n",
              "      <td>2.0</td>\n",
              "      <td>stairway</td>\n",
              "      <td>서울특별시</td>\n",
              "    </tr>\n",
              "    <tr>\n",
              "      <th>1120607</th>\n",
              "      <td>201910</td>\n",
              "      <td>40000</td>\n",
              "      <td>1995</td>\n",
              "      <td>5</td>\n",
              "      <td>84.94</td>\n",
              "      <td>8</td>\n",
              "      <td>1284</td>\n",
              "      <td>37.686693</td>\n",
              "      <td>127.047548</td>\n",
              "      <td>1132010800</td>\n",
              "      <td>3481.0</td>\n",
              "      <td>2678</td>\n",
              "      <td>25</td>\n",
              "      <td>17.0</td>\n",
              "      <td>11.0</td>\n",
              "      <td>individual</td>\n",
              "      <td>gas</td>\n",
              "      <td>3513</td>\n",
              "      <td>102.02</td>\n",
              "      <td>164</td>\n",
              "      <td>3.0</td>\n",
              "      <td>2.0</td>\n",
              "      <td>stairway</td>\n",
              "      <td>서울특별시</td>\n",
              "    </tr>\n",
              "    <tr>\n",
              "      <th>1121565</th>\n",
              "      <td>201910</td>\n",
              "      <td>40500</td>\n",
              "      <td>1995</td>\n",
              "      <td>11</td>\n",
              "      <td>84.94</td>\n",
              "      <td>9</td>\n",
              "      <td>1284</td>\n",
              "      <td>37.686693</td>\n",
              "      <td>127.047548</td>\n",
              "      <td>1132010800</td>\n",
              "      <td>3481.0</td>\n",
              "      <td>2678</td>\n",
              "      <td>25</td>\n",
              "      <td>17.0</td>\n",
              "      <td>11.0</td>\n",
              "      <td>individual</td>\n",
              "      <td>gas</td>\n",
              "      <td>3513</td>\n",
              "      <td>102.02</td>\n",
              "      <td>164</td>\n",
              "      <td>3.0</td>\n",
              "      <td>2.0</td>\n",
              "      <td>stairway</td>\n",
              "      <td>서울특별시</td>\n",
              "    </tr>\n",
              "    <tr>\n",
              "      <th>1121568</th>\n",
              "      <td>201910</td>\n",
              "      <td>43300</td>\n",
              "      <td>1995</td>\n",
              "      <td>11</td>\n",
              "      <td>84.94</td>\n",
              "      <td>15</td>\n",
              "      <td>1284</td>\n",
              "      <td>37.686693</td>\n",
              "      <td>127.047548</td>\n",
              "      <td>1132010800</td>\n",
              "      <td>3481.0</td>\n",
              "      <td>2678</td>\n",
              "      <td>25</td>\n",
              "      <td>17.0</td>\n",
              "      <td>11.0</td>\n",
              "      <td>individual</td>\n",
              "      <td>gas</td>\n",
              "      <td>3513</td>\n",
              "      <td>102.02</td>\n",
              "      <td>164</td>\n",
              "      <td>3.0</td>\n",
              "      <td>2.0</td>\n",
              "      <td>stairway</td>\n",
              "      <td>서울특별시</td>\n",
              "    </tr>\n",
              "  </tbody>\n",
              "</table>\n",
              "<p>1949 rows × 24 columns</p>\n",
              "</div>"
            ],
            "text/plain": [
              "         transaction_year_month  trade_price  year_built  transaction_day  exclusive_use_area  floor  apt_id        lat         lng     dong_cd  tot_parking  tot_household_cnt  apt_building_cnt  floor_high  floor_low   heat_type heat_fuel  room_id  supply_area  household_cnt  room_cnt  bathroom_cnt front_structure local1\n",
              "85366    200612                  24500        1995        1                84.94               4      1284    37.686693  127.047548  1132010800  3481.0       2678               25                17.0        11.0       individual  gas       3513     102.02       164            3.0       2.0           stairway        서울특별시\n",
              "85369    200612                  22000        1995        2                84.94               4      1284    37.686693  127.047548  1132010800  3481.0       2678               25                17.0        11.0       individual  gas       3513     102.02       164            3.0       2.0           stairway        서울특별시\n",
              "85372    200612                  28000        1995        2                84.94               12     1284    37.686693  127.047548  1132010800  3481.0       2678               25                17.0        11.0       individual  gas       3513     102.02       164            3.0       2.0           stairway        서울특별시\n",
              "85382    200612                  25000        1995        4                84.94               6      1284    37.686693  127.047548  1132010800  3481.0       2678               25                17.0        11.0       individual  gas       3513     102.02       164            3.0       2.0           stairway        서울특별시\n",
              "85413    200612                  27600        1995        7                84.94               6      1284    37.686693  127.047548  1132010800  3481.0       2678               25                17.0        11.0       individual  gas       3513     102.02       164            3.0       2.0           stairway        서울특별시\n",
              "...         ...                    ...         ...       ..                  ...              ..       ...          ...         ...         ...     ...        ...               ..                 ...         ...              ...  ...        ...        ...       ...            ...       ...                ...          ...\n",
              "1120001  201910                  40000        1995        31               84.94               12     1284    37.686693  127.047548  1132010800  3481.0       2678               25                17.0        11.0       individual  gas       3513     102.02       164            3.0       2.0           stairway        서울특별시\n",
              "1120004  201909                  41500        1995        19               84.94               8      1284    37.686693  127.047548  1132010800  3481.0       2678               25                17.0        11.0       individual  gas       3513     102.02       164            3.0       2.0           stairway        서울특별시\n",
              "1120607  201910                  40000        1995        5                84.94               8      1284    37.686693  127.047548  1132010800  3481.0       2678               25                17.0        11.0       individual  gas       3513     102.02       164            3.0       2.0           stairway        서울특별시\n",
              "1121565  201910                  40500        1995        11               84.94               9      1284    37.686693  127.047548  1132010800  3481.0       2678               25                17.0        11.0       individual  gas       3513     102.02       164            3.0       2.0           stairway        서울특별시\n",
              "1121568  201910                  43300        1995        11               84.94               15     1284    37.686693  127.047548  1132010800  3481.0       2678               25                17.0        11.0       individual  gas       3513     102.02       164            3.0       2.0           stairway        서울특별시\n",
              "\n",
              "[1949 rows x 24 columns]"
            ]
          },
          "metadata": {
            "tags": []
          },
          "execution_count": 48
        }
      ]
    },
    {
      "cell_type": "code",
      "metadata": {
        "id": "Fm7CwX8WHQXV",
        "colab_type": "code",
        "colab": {}
      },
      "source": [
        "timese_df[\"transaction_year_month\"] = timese_df[\"transaction_year_month\"].astype(str)"
      ],
      "execution_count": 0,
      "outputs": []
    },
    {
      "cell_type": "code",
      "metadata": {
        "id": "fLj4T5GmHl1p",
        "colab_type": "code",
        "outputId": "24418ad1-e681-4edc-b5e9-dea76c5f80c8",
        "colab": {
          "base_uri": "https://localhost:8080/",
          "height": 112
        }
      },
      "source": [
        "timese_df.head(1)"
      ],
      "execution_count": 0,
      "outputs": [
        {
          "output_type": "execute_result",
          "data": {
            "text/html": [
              "<div>\n",
              "<style scoped>\n",
              "    .dataframe tbody tr th:only-of-type {\n",
              "        vertical-align: middle;\n",
              "    }\n",
              "\n",
              "    .dataframe tbody tr th {\n",
              "        vertical-align: top;\n",
              "    }\n",
              "\n",
              "    .dataframe thead th {\n",
              "        text-align: right;\n",
              "    }\n",
              "</style>\n",
              "<table border=\"1\" class=\"dataframe\">\n",
              "  <thead>\n",
              "    <tr style=\"text-align: right;\">\n",
              "      <th></th>\n",
              "      <th>transaction_year_month</th>\n",
              "      <th>trade_price</th>\n",
              "      <th>year_built</th>\n",
              "      <th>transaction_day</th>\n",
              "      <th>exclusive_use_area</th>\n",
              "      <th>floor</th>\n",
              "      <th>apt_id</th>\n",
              "      <th>lat</th>\n",
              "      <th>lng</th>\n",
              "      <th>dong_cd</th>\n",
              "      <th>tot_parking</th>\n",
              "      <th>tot_household_cnt</th>\n",
              "      <th>apt_building_cnt</th>\n",
              "      <th>floor_high</th>\n",
              "      <th>floor_low</th>\n",
              "      <th>heat_type</th>\n",
              "      <th>heat_fuel</th>\n",
              "      <th>room_id</th>\n",
              "      <th>supply_area</th>\n",
              "      <th>household_cnt</th>\n",
              "      <th>room_cnt</th>\n",
              "      <th>bathroom_cnt</th>\n",
              "      <th>front_structure</th>\n",
              "      <th>local1</th>\n",
              "    </tr>\n",
              "  </thead>\n",
              "  <tbody>\n",
              "    <tr>\n",
              "      <th>85366</th>\n",
              "      <td>200612</td>\n",
              "      <td>24500</td>\n",
              "      <td>1995</td>\n",
              "      <td>1</td>\n",
              "      <td>84.94</td>\n",
              "      <td>4</td>\n",
              "      <td>1284</td>\n",
              "      <td>37.686693</td>\n",
              "      <td>127.047548</td>\n",
              "      <td>1132010800</td>\n",
              "      <td>3481.0</td>\n",
              "      <td>2678</td>\n",
              "      <td>25</td>\n",
              "      <td>17.0</td>\n",
              "      <td>11.0</td>\n",
              "      <td>individual</td>\n",
              "      <td>gas</td>\n",
              "      <td>3513</td>\n",
              "      <td>102.02</td>\n",
              "      <td>164</td>\n",
              "      <td>3.0</td>\n",
              "      <td>2.0</td>\n",
              "      <td>stairway</td>\n",
              "      <td>서울특별시</td>\n",
              "    </tr>\n",
              "  </tbody>\n",
              "</table>\n",
              "</div>"
            ],
            "text/plain": [
              "      transaction_year_month  trade_price  year_built  transaction_day  exclusive_use_area  floor  apt_id        lat         lng     dong_cd  tot_parking  tot_household_cnt  apt_building_cnt  floor_high  floor_low   heat_type heat_fuel  room_id  supply_area  household_cnt  room_cnt  bathroom_cnt front_structure local1\n",
              "85366  200612                 24500        1995        1                84.94               4      1284    37.686693  127.047548  1132010800  3481.0       2678               25                17.0        11.0       individual  gas       3513     102.02       164            3.0       2.0           stairway        서울특별시"
            ]
          },
          "metadata": {
            "tags": []
          },
          "execution_count": 50
        }
      ]
    },
    {
      "cell_type": "code",
      "metadata": {
        "id": "Me6e1fTNHvWX",
        "colab_type": "code",
        "colab": {}
      },
      "source": [
        "a = timese_df[\"transaction_year_month\"].loc[85366]"
      ],
      "execution_count": 0,
      "outputs": []
    },
    {
      "cell_type": "code",
      "metadata": {
        "id": "o9qLsyDsH71U",
        "colab_type": "code",
        "outputId": "bccda473-9647-4296-aaf2-6d564f78e679",
        "colab": {
          "base_uri": "https://localhost:8080/",
          "height": 35
        }
      },
      "source": [
        "a"
      ],
      "execution_count": 0,
      "outputs": [
        {
          "output_type": "execute_result",
          "data": {
            "text/plain": [
              "'200612'"
            ]
          },
          "metadata": {
            "tags": []
          },
          "execution_count": 52
        }
      ]
    },
    {
      "cell_type": "code",
      "metadata": {
        "id": "m7P90gzRH85f",
        "colab_type": "code",
        "colab": {}
      },
      "source": [
        "timese_df[\"trade_year\"] = timese_df[\"transaction_year_month\"].apply(lambda x : x[:4])\n",
        "timese_df[\"trade_month\"] = timese_df[\"transaction_year_month\"].apply(lambda x : x[4:])\n"
      ],
      "execution_count": 0,
      "outputs": []
    },
    {
      "cell_type": "code",
      "metadata": {
        "id": "1tRtUwD4IT61",
        "colab_type": "code",
        "outputId": "5b69bd5c-95f5-459b-88ca-61faeac98c46",
        "colab": {
          "base_uri": "https://localhost:8080/",
          "height": 490
        }
      },
      "source": [
        "timese_df.dtypes"
      ],
      "execution_count": 0,
      "outputs": [
        {
          "output_type": "execute_result",
          "data": {
            "text/plain": [
              "transaction_year_month    object \n",
              "trade_price               int64  \n",
              "year_built                int64  \n",
              "transaction_day           int64  \n",
              "exclusive_use_area        float64\n",
              "floor                     int64  \n",
              "apt_id                    int64  \n",
              "lat                       float64\n",
              "lng                       float64\n",
              "dong_cd                   int64  \n",
              "tot_parking               float64\n",
              "tot_household_cnt         int64  \n",
              "apt_building_cnt          int64  \n",
              "floor_high                float64\n",
              "floor_low                 float64\n",
              "heat_type                 object \n",
              "heat_fuel                 object \n",
              "room_id                   int64  \n",
              "supply_area               float64\n",
              "household_cnt             int64  \n",
              "room_cnt                  float64\n",
              "bathroom_cnt              float64\n",
              "front_structure           object \n",
              "local1                    object \n",
              "trade_year                object \n",
              "trade_month               object \n",
              "dtype: object"
            ]
          },
          "metadata": {
            "tags": []
          },
          "execution_count": 54
        }
      ]
    },
    {
      "cell_type": "code",
      "metadata": {
        "id": "Zf8NoxDEIWdo",
        "colab_type": "code",
        "colab": {}
      },
      "source": [
        "timese_df[\"transaction_day\"] = timese_df[\"transaction_day\"].astype(str)"
      ],
      "execution_count": 0,
      "outputs": []
    },
    {
      "cell_type": "code",
      "metadata": {
        "id": "yGFIHSivIogD",
        "colab_type": "code",
        "colab": {}
      },
      "source": [
        "timese_df[\"trade_date\"] = timese_df[[\"trade_year\",\"trade_month\",\"transaction_day\"]].apply(lambda row : \"{}-{}-{}\".format(row[0], row[1], row[2]), axis=1)"
      ],
      "execution_count": 0,
      "outputs": []
    },
    {
      "cell_type": "code",
      "metadata": {
        "id": "ubD5Sp8qJHJd",
        "colab_type": "code",
        "colab": {}
      },
      "source": [
        "timese_df[\"trade_date\"] = pd.to_datetime(timese_df[\"trade_date\"])"
      ],
      "execution_count": 0,
      "outputs": []
    },
    {
      "cell_type": "code",
      "metadata": {
        "id": "XQgqUpqqJUc8",
        "colab_type": "code",
        "colab": {}
      },
      "source": [
        "timese_df=timese_df[[\"trade_date\", \"trade_price\"]]"
      ],
      "execution_count": 0,
      "outputs": []
    },
    {
      "cell_type": "code",
      "metadata": {
        "id": "NgRI-dBGJ8xv",
        "colab_type": "code",
        "outputId": "2403498e-e918-4051-8aef-d7e9d07bee31",
        "colab": {
          "base_uri": "https://localhost:8080/",
          "height": 191
        }
      },
      "source": [
        "timese_df.head()"
      ],
      "execution_count": 0,
      "outputs": [
        {
          "output_type": "execute_result",
          "data": {
            "text/html": [
              "<div>\n",
              "<style scoped>\n",
              "    .dataframe tbody tr th:only-of-type {\n",
              "        vertical-align: middle;\n",
              "    }\n",
              "\n",
              "    .dataframe tbody tr th {\n",
              "        vertical-align: top;\n",
              "    }\n",
              "\n",
              "    .dataframe thead th {\n",
              "        text-align: right;\n",
              "    }\n",
              "</style>\n",
              "<table border=\"1\" class=\"dataframe\">\n",
              "  <thead>\n",
              "    <tr style=\"text-align: right;\">\n",
              "      <th></th>\n",
              "      <th>trade_date</th>\n",
              "      <th>trade_price</th>\n",
              "    </tr>\n",
              "  </thead>\n",
              "  <tbody>\n",
              "    <tr>\n",
              "      <th>85366</th>\n",
              "      <td>2006-12-01</td>\n",
              "      <td>24500</td>\n",
              "    </tr>\n",
              "    <tr>\n",
              "      <th>85369</th>\n",
              "      <td>2006-12-02</td>\n",
              "      <td>22000</td>\n",
              "    </tr>\n",
              "    <tr>\n",
              "      <th>85372</th>\n",
              "      <td>2006-12-02</td>\n",
              "      <td>28000</td>\n",
              "    </tr>\n",
              "    <tr>\n",
              "      <th>85382</th>\n",
              "      <td>2006-12-04</td>\n",
              "      <td>25000</td>\n",
              "    </tr>\n",
              "    <tr>\n",
              "      <th>85413</th>\n",
              "      <td>2006-12-07</td>\n",
              "      <td>27600</td>\n",
              "    </tr>\n",
              "  </tbody>\n",
              "</table>\n",
              "</div>"
            ],
            "text/plain": [
              "      trade_date  trade_price\n",
              "85366 2006-12-01  24500      \n",
              "85369 2006-12-02  22000      \n",
              "85372 2006-12-02  28000      \n",
              "85382 2006-12-04  25000      \n",
              "85413 2006-12-07  27600      "
            ]
          },
          "metadata": {
            "tags": []
          },
          "execution_count": 59
        }
      ]
    },
    {
      "cell_type": "code",
      "metadata": {
        "id": "h7xSsG-ZKCVz",
        "colab_type": "code",
        "outputId": "79948cb3-6f7b-41f5-b236-f08c28ff2db9",
        "colab": {
          "base_uri": "https://localhost:8080/",
          "height": 70
        }
      },
      "source": [
        "timese_df.dtypes"
      ],
      "execution_count": 0,
      "outputs": [
        {
          "output_type": "execute_result",
          "data": {
            "text/plain": [
              "trade_date     datetime64[ns]\n",
              "trade_price    int64         \n",
              "dtype: object"
            ]
          },
          "metadata": {
            "tags": []
          },
          "execution_count": 68
        }
      ]
    },
    {
      "cell_type": "code",
      "metadata": {
        "id": "nDPJfH8QNOc5",
        "colab_type": "code",
        "colab": {}
      },
      "source": [
        "timese_df_set_index = timese_df.set_index('trade_date')"
      ],
      "execution_count": 0,
      "outputs": []
    },
    {
      "cell_type": "code",
      "metadata": {
        "id": "w4E79ICuPBfQ",
        "colab_type": "code",
        "outputId": "18190dff-8286-42c3-99f9-33cc3349cd1c",
        "colab": {
          "base_uri": "https://localhost:8080/",
          "height": 90
        }
      },
      "source": [
        "timese_df_set_index.index"
      ],
      "execution_count": 0,
      "outputs": [
        {
          "output_type": "execute_result",
          "data": {
            "text/plain": [
              "DatetimeIndex(['2006-12-01', '2006-12-02', '2006-12-02', '2006-12-04', '2006-12-07', '2006-12-11', '2006-12-11', '2006-12-11', '2006-12-13', '2006-12-13',\n",
              "               ...\n",
              "               '2019-09-19', '2019-10-22', '2019-09-28', '2019-11-08', '2019-10-15', '2019-10-31', '2019-09-19', '2019-10-05', '2019-10-11', '2019-10-11'], dtype='datetime64[ns]', name='trade_date', length=1949, freq=None)"
            ]
          },
          "metadata": {
            "tags": []
          },
          "execution_count": 70
        }
      ]
    },
    {
      "cell_type": "code",
      "metadata": {
        "id": "kojfBLxMN3gC",
        "colab_type": "code",
        "colab": {}
      },
      "source": [
        "y =timese_df_set_index.resample('MS').mean()[\"trade_price\"]"
      ],
      "execution_count": 0,
      "outputs": []
    },
    {
      "cell_type": "code",
      "metadata": {
        "id": "I7wJWl2vMQxe",
        "colab_type": "code",
        "outputId": "f7b0e082-231f-43cc-e406-c85f7fc3bd56",
        "colab": {
          "base_uri": "https://localhost:8080/",
          "height": 140
        }
      },
      "source": [
        "y.head()"
      ],
      "execution_count": 0,
      "outputs": [
        {
          "output_type": "execute_result",
          "data": {
            "text/plain": [
              "trade_date\n",
              "2006-01-01    18066.666667\n",
              "2006-02-01    19244.000000\n",
              "2006-03-01    19323.529412\n",
              "2006-04-01    19221.212121\n",
              "2006-05-01    19800.000000\n",
              "Freq: MS, Name: trade_price, dtype: float64"
            ]
          },
          "metadata": {
            "tags": []
          },
          "execution_count": 72
        }
      ]
    },
    {
      "cell_type": "code",
      "metadata": {
        "id": "08-6_CGXLouS",
        "colab_type": "code",
        "colab": {}
      },
      "source": [
        "from fbprophet import Prophet\n",
        "prophet_input_df = pd.DataFrame(y)\n",
        "prophet_input_df.reset_index(drop=False,inplace=True)\n",
        "prophet_input_df.rename(columns={\"trade_date\":\"ds\",\"trade_price\":\"y\"},inplace=True)"
      ],
      "execution_count": 0,
      "outputs": []
    },
    {
      "cell_type": "code",
      "metadata": {
        "id": "_2iGz8p4LqCP",
        "colab_type": "code",
        "outputId": "b22f3982-c36c-424e-f6a0-480e8bb560c5",
        "colab": {
          "base_uri": "https://localhost:8080/",
          "height": 327
        }
      },
      "source": [
        "m = Prophet()\n",
        "m.fit(prophet_input_df)\n",
        "future = m.make_future_dataframe(periods=12,freq=\"MS\")\n",
        "future.tail()\n",
        "\n",
        "forecast = m.predict(future)\n",
        "forecast.tail()"
      ],
      "execution_count": 0,
      "outputs": [
        {
          "output_type": "stream",
          "text": [
            "INFO:fbprophet:Disabling weekly seasonality. Run prophet with weekly_seasonality=True to override this.\n",
            "INFO:fbprophet:Disabling daily seasonality. Run prophet with daily_seasonality=True to override this.\n"
          ],
          "name": "stderr"
        },
        {
          "output_type": "execute_result",
          "data": {
            "text/html": [
              "<div>\n",
              "<style scoped>\n",
              "    .dataframe tbody tr th:only-of-type {\n",
              "        vertical-align: middle;\n",
              "    }\n",
              "\n",
              "    .dataframe tbody tr th {\n",
              "        vertical-align: top;\n",
              "    }\n",
              "\n",
              "    .dataframe thead th {\n",
              "        text-align: right;\n",
              "    }\n",
              "</style>\n",
              "<table border=\"1\" class=\"dataframe\">\n",
              "  <thead>\n",
              "    <tr style=\"text-align: right;\">\n",
              "      <th></th>\n",
              "      <th>ds</th>\n",
              "      <th>trend</th>\n",
              "      <th>yhat_lower</th>\n",
              "      <th>yhat_upper</th>\n",
              "      <th>trend_lower</th>\n",
              "      <th>trend_upper</th>\n",
              "      <th>additive_terms</th>\n",
              "      <th>additive_terms_lower</th>\n",
              "      <th>additive_terms_upper</th>\n",
              "      <th>yearly</th>\n",
              "      <th>yearly_lower</th>\n",
              "      <th>yearly_upper</th>\n",
              "      <th>multiplicative_terms</th>\n",
              "      <th>multiplicative_terms_lower</th>\n",
              "      <th>multiplicative_terms_upper</th>\n",
              "      <th>yhat</th>\n",
              "    </tr>\n",
              "  </thead>\n",
              "  <tbody>\n",
              "    <tr>\n",
              "      <th>174</th>\n",
              "      <td>2020-07-01</td>\n",
              "      <td>42031.336973</td>\n",
              "      <td>40824.544006</td>\n",
              "      <td>44517.162629</td>\n",
              "      <td>41813.244763</td>\n",
              "      <td>42297.401458</td>\n",
              "      <td>645.598524</td>\n",
              "      <td>645.598524</td>\n",
              "      <td>645.598524</td>\n",
              "      <td>645.598524</td>\n",
              "      <td>645.598524</td>\n",
              "      <td>645.598524</td>\n",
              "      <td>0.0</td>\n",
              "      <td>0.0</td>\n",
              "      <td>0.0</td>\n",
              "      <td>42676.935497</td>\n",
              "    </tr>\n",
              "    <tr>\n",
              "      <th>175</th>\n",
              "      <td>2020-08-01</td>\n",
              "      <td>42255.249914</td>\n",
              "      <td>39113.454126</td>\n",
              "      <td>43103.230809</td>\n",
              "      <td>41990.902114</td>\n",
              "      <td>42588.329921</td>\n",
              "      <td>-1171.529029</td>\n",
              "      <td>-1171.529029</td>\n",
              "      <td>-1171.529029</td>\n",
              "      <td>-1171.529029</td>\n",
              "      <td>-1171.529029</td>\n",
              "      <td>-1171.529029</td>\n",
              "      <td>0.0</td>\n",
              "      <td>0.0</td>\n",
              "      <td>0.0</td>\n",
              "      <td>41083.720885</td>\n",
              "    </tr>\n",
              "    <tr>\n",
              "      <th>176</th>\n",
              "      <td>2020-09-01</td>\n",
              "      <td>42479.162855</td>\n",
              "      <td>40858.825134</td>\n",
              "      <td>44825.637140</td>\n",
              "      <td>42151.071322</td>\n",
              "      <td>42875.345813</td>\n",
              "      <td>230.518651</td>\n",
              "      <td>230.518651</td>\n",
              "      <td>230.518651</td>\n",
              "      <td>230.518651</td>\n",
              "      <td>230.518651</td>\n",
              "      <td>230.518651</td>\n",
              "      <td>0.0</td>\n",
              "      <td>0.0</td>\n",
              "      <td>0.0</td>\n",
              "      <td>42709.681507</td>\n",
              "    </tr>\n",
              "    <tr>\n",
              "      <th>177</th>\n",
              "      <td>2020-10-01</td>\n",
              "      <td>42695.852798</td>\n",
              "      <td>41565.565703</td>\n",
              "      <td>45448.380551</td>\n",
              "      <td>42306.162013</td>\n",
              "      <td>43151.684132</td>\n",
              "      <td>882.743229</td>\n",
              "      <td>882.743229</td>\n",
              "      <td>882.743229</td>\n",
              "      <td>882.743229</td>\n",
              "      <td>882.743229</td>\n",
              "      <td>882.743229</td>\n",
              "      <td>0.0</td>\n",
              "      <td>0.0</td>\n",
              "      <td>0.0</td>\n",
              "      <td>43578.596028</td>\n",
              "    </tr>\n",
              "    <tr>\n",
              "      <th>178</th>\n",
              "      <td>2020-11-01</td>\n",
              "      <td>42919.765740</td>\n",
              "      <td>41025.808935</td>\n",
              "      <td>44890.537948</td>\n",
              "      <td>42459.774692</td>\n",
              "      <td>43443.085650</td>\n",
              "      <td>-17.046765</td>\n",
              "      <td>-17.046765</td>\n",
              "      <td>-17.046765</td>\n",
              "      <td>-17.046765</td>\n",
              "      <td>-17.046765</td>\n",
              "      <td>-17.046765</td>\n",
              "      <td>0.0</td>\n",
              "      <td>0.0</td>\n",
              "      <td>0.0</td>\n",
              "      <td>42902.718974</td>\n",
              "    </tr>\n",
              "  </tbody>\n",
              "</table>\n",
              "</div>"
            ],
            "text/plain": [
              "            ds         trend    yhat_lower    yhat_upper   trend_lower   trend_upper  additive_terms  additive_terms_lower  additive_terms_upper       yearly  yearly_lower  yearly_upper  multiplicative_terms  multiplicative_terms_lower  multiplicative_terms_upper          yhat\n",
              "174 2020-07-01  42031.336973  40824.544006  44517.162629  41813.244763  42297.401458  645.598524      645.598524            645.598524            645.598524   645.598524    645.598524    0.0                   0.0                         0.0                         42676.935497\n",
              "175 2020-08-01  42255.249914  39113.454126  43103.230809  41990.902114  42588.329921 -1171.529029    -1171.529029          -1171.529029          -1171.529029 -1171.529029  -1171.529029   0.0                   0.0                         0.0                         41083.720885\n",
              "176 2020-09-01  42479.162855  40858.825134  44825.637140  42151.071322  42875.345813  230.518651      230.518651            230.518651            230.518651   230.518651    230.518651    0.0                   0.0                         0.0                         42709.681507\n",
              "177 2020-10-01  42695.852798  41565.565703  45448.380551  42306.162013  43151.684132  882.743229      882.743229            882.743229            882.743229   882.743229    882.743229    0.0                   0.0                         0.0                         43578.596028\n",
              "178 2020-11-01  42919.765740  41025.808935  44890.537948  42459.774692  43443.085650 -17.046765      -17.046765            -17.046765            -17.046765   -17.046765    -17.046765     0.0                   0.0                         0.0                         42902.718974"
            ]
          },
          "metadata": {
            "tags": []
          },
          "execution_count": 75
        }
      ]
    },
    {
      "cell_type": "code",
      "metadata": {
        "id": "So5DLOi_PNyL",
        "colab_type": "code",
        "outputId": "68e70848-0baf-4879-e4a3-7fcf9e9a3f2f",
        "colab": {
          "base_uri": "https://localhost:8080/",
          "height": 441
        }
      },
      "source": [
        "fig = m.plot_components(forecast)"
      ],
      "execution_count": 0,
      "outputs": [
        {
          "output_type": "display_data",
          "data": {
            "image/png": "[encoded data removed]",
            "text/plain": [
              "<Figure size 648x432 with 2 Axes>"
            ]
          },
          "metadata": {
            "tags": []
          }
        }
      ]
    },
    {
      "cell_type": "code",
      "metadata": {
        "id": "7k2rF5tZPVEj",
        "colab_type": "code",
        "outputId": "582cb325-1916-4aea-8f26-5ae0c1c591c1",
        "colab": {
          "base_uri": "https://localhost:8080/",
          "height": 392
        }
      },
      "source": [
        "forecast[[\"ds\",\"yhat\"]][-12:]"
      ],
      "execution_count": 0,
      "outputs": [
        {
          "output_type": "execute_result",
          "data": {
            "text/html": [
              "<div>\n",
              "<style scoped>\n",
              "    .dataframe tbody tr th:only-of-type {\n",
              "        vertical-align: middle;\n",
              "    }\n",
              "\n",
              "    .dataframe tbody tr th {\n",
              "        vertical-align: top;\n",
              "    }\n",
              "\n",
              "    .dataframe thead th {\n",
              "        text-align: right;\n",
              "    }\n",
              "</style>\n",
              "<table border=\"1\" class=\"dataframe\">\n",
              "  <thead>\n",
              "    <tr style=\"text-align: right;\">\n",
              "      <th></th>\n",
              "      <th>ds</th>\n",
              "      <th>yhat</th>\n",
              "    </tr>\n",
              "  </thead>\n",
              "  <tbody>\n",
              "    <tr>\n",
              "      <th>167</th>\n",
              "      <td>2019-12-01</td>\n",
              "      <td>40102.073258</td>\n",
              "    </tr>\n",
              "    <tr>\n",
              "      <th>168</th>\n",
              "      <td>2020-01-01</td>\n",
              "      <td>40355.839376</td>\n",
              "    </tr>\n",
              "    <tr>\n",
              "      <th>169</th>\n",
              "      <td>2020-02-01</td>\n",
              "      <td>40970.738322</td>\n",
              "    </tr>\n",
              "    <tr>\n",
              "      <th>170</th>\n",
              "      <td>2020-03-01</td>\n",
              "      <td>40750.188737</td>\n",
              "    </tr>\n",
              "    <tr>\n",
              "      <th>171</th>\n",
              "      <td>2020-04-01</td>\n",
              "      <td>41372.181918</td>\n",
              "    </tr>\n",
              "    <tr>\n",
              "      <th>172</th>\n",
              "      <td>2020-05-01</td>\n",
              "      <td>40785.449061</td>\n",
              "    </tr>\n",
              "    <tr>\n",
              "      <th>173</th>\n",
              "      <td>2020-06-01</td>\n",
              "      <td>42271.282216</td>\n",
              "    </tr>\n",
              "    <tr>\n",
              "      <th>174</th>\n",
              "      <td>2020-07-01</td>\n",
              "      <td>42676.935497</td>\n",
              "    </tr>\n",
              "    <tr>\n",
              "      <th>175</th>\n",
              "      <td>2020-08-01</td>\n",
              "      <td>41083.720885</td>\n",
              "    </tr>\n",
              "    <tr>\n",
              "      <th>176</th>\n",
              "      <td>2020-09-01</td>\n",
              "      <td>42709.681507</td>\n",
              "    </tr>\n",
              "    <tr>\n",
              "      <th>177</th>\n",
              "      <td>2020-10-01</td>\n",
              "      <td>43578.596028</td>\n",
              "    </tr>\n",
              "    <tr>\n",
              "      <th>178</th>\n",
              "      <td>2020-11-01</td>\n",
              "      <td>42902.718974</td>\n",
              "    </tr>\n",
              "  </tbody>\n",
              "</table>\n",
              "</div>"
            ],
            "text/plain": [
              "            ds          yhat\n",
              "167 2019-12-01  40102.073258\n",
              "168 2020-01-01  40355.839376\n",
              "169 2020-02-01  40970.738322\n",
              "170 2020-03-01  40750.188737\n",
              "171 2020-04-01  41372.181918\n",
              "172 2020-05-01  40785.449061\n",
              "173 2020-06-01  42271.282216\n",
              "174 2020-07-01  42676.935497\n",
              "175 2020-08-01  41083.720885\n",
              "176 2020-09-01  42709.681507\n",
              "177 2020-10-01  43578.596028\n",
              "178 2020-11-01  42902.718974"
            ]
          },
          "metadata": {
            "tags": []
          },
          "execution_count": 81
        }
      ]
    },
    {
      "cell_type": "code",
      "metadata": {
        "id": "kSmiaieHQHk8",
        "colab_type": "code",
        "colab": {}
      },
      "source": [
        ""
      ],
      "execution_count": 0,
      "outputs": []
    }
  ]
}